{
 "cells": [
  {
   "cell_type": "markdown",
   "id": "daf2db24",
   "metadata": {},
   "source": [
    "# 2nd-order acoustic with 1D extrapolations\n",
    "\n",
    "Schism is capable of implementing immersed boundaries based on 1D approximations of boundary conditions in the style of Mulder 2017. The process of doing so is similar to that detailed previously, albeit with some minor differences."
   ]
  },
  {
   "cell_type": "code",
   "execution_count": 1,
   "id": "c3cdbdc2",
   "metadata": {},
   "outputs": [
    {
     "data": {
      "image/png": "[encoded data removed]",
      "text/plain": [
       "<Figure size 432x288 with 2 Axes>"
      ]
     },
     "metadata": {
      "needs_background": "light"
     },
     "output_type": "display_data"
    }
   ],
   "source": [
    "# Load the signed distance function for the boundary geometry\n",
    "import pickle\n",
    "import matplotlib.pyplot as plt\n",
    "\n",
    "def read_sdf(surface, dims):\n",
    "    \"\"\"Unpickle an sdf\"\"\"\n",
    "    fname = '../tests/sdfs/' + surface + '_' + str(dims) + 'd.dat'\n",
    "    with open(fname, 'rb') as f:\n",
    "        sdf = pickle.load(f)\n",
    "    return sdf\n",
    "\n",
    "# Load the flat 2D sdf\n",
    "sdf = read_sdf('horizontal', 2)\n",
    "\n",
    "plt.imshow(sdf.data.T, origin='lower')\n",
    "plt.title(\"Boundary geometry SDF\")\n",
    "plt.colorbar()\n",
    "plt.show()"
   ]
  },
  {
   "cell_type": "markdown",
   "id": "61960b83",
   "metadata": {},
   "source": [
    "As before, we construct a `BoundaryGeometry` object."
   ]
  },
  {
   "cell_type": "code",
   "execution_count": 2,
   "id": "f5abaf0f",
   "metadata": {},
   "outputs": [
    {
     "name": "stderr",
     "output_type": "stream",
     "text": [
      "Operator `normals` ran in 0.01 s\n"
     ]
    }
   ],
   "source": [
    "from schism import BoundaryGeometry\n",
    "\n",
    "bg = BoundaryGeometry(sdf)\n",
    "grid = bg.grid  # Gets the grid from the signed distance function"
   ]
  },
  {
   "cell_type": "markdown",
   "id": "acf61094",
   "metadata": {},
   "source": [
    "And again, define a `TimeFunction` for pressure."
   ]
  },
  {
   "cell_type": "code",
   "execution_count": 3,
   "id": "9c54323f",
   "metadata": {},
   "outputs": [],
   "source": [
    "import devito as dv\n",
    "\n",
    "s_o = 4\n",
    "p = dv.TimeFunction(name='p', grid=grid, space_order=s_o, time_order=2)"
   ]
  },
  {
   "cell_type": "markdown",
   "id": "0fead69d",
   "metadata": {},
   "source": [
    "Now we define the boundary conditions. As we want to use 1D extrapolations to impose the immersed boundary, we will need to supply 1D approximations of the 2D boundary conditions. Note that Schism is capable of separating boundary conditions pertaining to different extrapolations from one another."
   ]
  },
  {
   "cell_type": "code",
   "execution_count": 4,
   "id": "634aa81f",
   "metadata": {},
   "outputs": [],
   "source": [
    "from schism import BoundaryConditions\n",
    "\n",
    "bc_list = [dv.Eq(p, 0),  # Zero pressure on free surface\n",
    "           dv.Eq(p.dy2, 0),  # Zero second derivative\n",
    "           dv.Eq(p.dy4, 0)]  # Zero fourth derivative\n",
    "\n",
    "bcs = BoundaryConditions(bc_list)"
   ]
  },
  {
   "cell_type": "markdown",
   "id": "c1e1c81d",
   "metadata": {},
   "source": [
    "Now we assemble our `Boundary`. However, to use 1D approximations, we need to supply some additional keyword arguments. The first of these is `has_1D_basis=True`, and it is also advisable to set `strategy='reduce'`. The latter of these changes the strategy used when insufficient information is available for extrapolation. Instead of expanding the stencil, the order of the extrapolation is reduced."
   ]
  },
  {
   "cell_type": "code",
   "execution_count": 5,
   "id": "b54da07b",
   "metadata": {},
   "outputs": [],
   "source": [
    "from schism import Boundary\n",
    "\n",
    "boundary = Boundary(bcs, bg, has_1D_basis=True, strategy='reduce')"
   ]
  },
  {
   "cell_type": "markdown",
   "id": "241d407f",
   "metadata": {},
   "source": [
    "As before, we get the substitution for the `p.dy2` expression."
   ]
  },
  {
   "cell_type": "code",
   "execution_count": 6,
   "id": "9642de7d",
   "metadata": {},
   "outputs": [],
   "source": [
    "deriv = (p.dy2,)\n",
    "subs = boundary.substitutions(deriv)"
   ]
  },
  {
   "cell_type": "markdown",
   "id": "619b7f16",
   "metadata": {},
   "source": [
    "Once again, before using this, we will set up a damping mask."
   ]
  },
  {
   "cell_type": "code",
   "execution_count": 7,
   "id": "e74268bc",
   "metadata": {},
   "outputs": [
    {
     "data": {
      "image/png": "[encoded data removed]",
      "text/plain": [
       "<Figure size 432x288 with 2 Axes>"
      ]
     },
     "metadata": {
      "needs_background": "light"
     },
     "output_type": "display_data"
    }
   ],
   "source": [
    "import numpy as np\n",
    "\n",
    "damp = dv.Function(name='damp', grid=grid)\n",
    "\n",
    "# Number of boundary layers\n",
    "nbl = 10\n",
    "taper = np.linspace(0, 0.3, nbl)\n",
    "\n",
    "# Add the taper to the function's data\n",
    "damp.data[:10] += taper[::-1, np.newaxis]\n",
    "damp.data[-10:] += taper[:, np.newaxis]\n",
    "damp.data[:, :10] += taper[np.newaxis, ::-1]\n",
    "damp.data[:, -10:] += taper[np.newaxis, :]\n",
    "\n",
    "plt.imshow(damp.data.T, origin='lower')\n",
    "plt.title(\"Damping mask\")\n",
    "plt.colorbar()\n",
    "plt.show()"
   ]
  },
  {
   "cell_type": "markdown",
   "id": "ea397ff8",
   "metadata": {},
   "source": [
    "We will also setup the source term."
   ]
  },
  {
   "cell_type": "code",
   "execution_count": 8,
   "id": "a75f2a39",
   "metadata": {},
   "outputs": [],
   "source": [
    "from examples.seismic import TimeAxis, RickerSource\n",
    "\n",
    "c = 1\n",
    "\n",
    "t0 = 0.  # Simulation starts a t=0\n",
    "tn = 550.  # Simulation last 0.55 seconds (550 ms)\n",
    "dt = 0.5*10/c  # Time step from grid spacing\n",
    "\n",
    "time_range = TimeAxis(start=t0, stop=tn, step=dt)\n",
    "\n",
    "f0 = 0.008  # Source peak frequency is 8Hz (0.008 kHz)\n",
    "src = RickerSource(name='src', grid=grid, f0=f0,\n",
    "                   npoint=1, time_range=time_range)\n",
    "\n",
    "# First, position source centrally in all dimensions\n",
    "src.coordinates.data[0, :] = np.array(grid.extent) * .5\n",
    "src.coordinates.data[0, -1] = 250.  # 250m above bottom"
   ]
  },
  {
   "cell_type": "markdown",
   "id": "301f2f90",
   "metadata": {},
   "source": [
    "Now we can specify our wave equation, set up our source term, create the operator, and run it."
   ]
  },
  {
   "cell_type": "code",
   "execution_count": 9,
   "id": "6651ed89",
   "metadata": {},
   "outputs": [
    {
     "name": "stderr",
     "output_type": "stream",
     "text": [
      "Operator `Kernel` ran in 0.01 s\n"
     ]
    },
    {
     "data": {
      "text/plain": [
       "PerformanceSummary([(PerfKey(name='section0', rank=None),\n",
       "                     PerfEntry(time=0.0026380000000000015, gflopss=0.0, gpointss=0.0, oi=0.0, ops=0, itershapes=[])),\n",
       "                    (PerfKey(name='section1', rank=None),\n",
       "                     PerfEntry(time=1.4000000000000003e-05, gflopss=0.0, gpointss=0.0, oi=0.0, ops=0, itershapes=[]))])"
      ]
     },
     "execution_count": 9,
     "metadata": {},
     "output_type": "execute_result"
    }
   ],
   "source": [
    "eq = dv.Eq(p.forward, 2*p-p.backward+dt**2*c**2*(p.dx2+subs[p.dy2])+damp*p.dt)\n",
    "\n",
    "src_term = src.inject(field=p.forward, expr=c*src*dt**2)\n",
    "\n",
    "op = dv.Operator([eq] + src_term)\n",
    "op(time=time_range.num-1, dt=dt)"
   ]
  },
  {
   "cell_type": "markdown",
   "id": "2ce510b2",
   "metadata": {},
   "source": [
    "And finally plot the result."
   ]
  },
  {
   "cell_type": "code",
   "execution_count": 10,
   "id": "ba26a0d7",
   "metadata": {},
   "outputs": [
    {
     "data": {
      "image/png": "[encoded data removed]",
      "text/plain": [
       "<Figure size 576x432 with 2 Axes>"
      ]
     },
     "metadata": {
      "needs_background": "light"
     },
     "output_type": "display_data"
    }
   ],
   "source": [
    "plt.imshow(p.data[1].T, origin='lower')\n",
    "plt.colorbar()\n",
    "plt.show()"
   ]
  },
  {
   "cell_type": "markdown",
   "id": "2673c6ec",
   "metadata": {},
   "source": [
    "This approach also yields the expected reflection."
   ]
  }
 ],
 "metadata": {
  "kernelspec": {
   "display_name": "Python 3 (ipykernel)",
   "language": "python",
   "name": "python3"
  },
  "language_info": {
   "codemirror_mode": {
    "name": "ipython",
    "version": 3
   },
   "file_extension": ".py",
   "mimetype": "text/x-python",
   "name": "python",
   "nbconvert_exporter": "python",
   "pygments_lexer": "ipython3",
   "version": "3.8.5"
  }
 },
 "nbformat": 4,
 "nbformat_minor": 5
}
