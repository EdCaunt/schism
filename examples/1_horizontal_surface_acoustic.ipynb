{
 "cells": [
  {
   "cell_type": "markdown",
   "id": "f58a608d",
   "metadata": {},
   "source": [
    "# 2nd-order acoustic horizontal boundary\n",
    "\n",
    "In this notebook, I will outline the process of implementing a horizontal immersed boundary in Devito using Schism. The boundary is located half a grid increment above index 50. On this surface, we will impose an acoustic free-surface boundary condition.\n",
    "\n",
    "Note that for the time being, the Devito branch `deriv-subs` is required for Schism to function."
   ]
  },
  {
   "cell_type": "code",
   "execution_count": 1,
   "id": "d33ef918",
   "metadata": {},
   "outputs": [
    {
     "data": {
      "image/png": "[encoded data removed]",
      "text/plain": [
       "<Figure size 432x288 with 2 Axes>"
      ]
     },
     "metadata": {
      "needs_background": "light"
     },
     "output_type": "display_data"
    }
   ],
   "source": [
    "# Load the signed distance function for the boundary geometry\n",
    "import pickle\n",
    "import matplotlib.pyplot as plt\n",
    "\n",
    "def read_sdf(surface, dims):\n",
    "    \"\"\"Unpickle an sdf\"\"\"\n",
    "    fname = '../tests/sdfs/' + surface + '_' + str(dims) + 'd.dat'\n",
    "    with open(fname, 'rb') as f:\n",
    "        sdf = pickle.load(f)\n",
    "    return sdf\n",
    "\n",
    "# Load the flat 2D sdf\n",
    "sdf = read_sdf('horizontal', 2)\n",
    "\n",
    "plt.imshow(sdf.data.T, origin='lower')\n",
    "plt.title(\"Boundary geometry SDF\")\n",
    "plt.colorbar()\n",
    "plt.show()"
   ]
  },
  {
   "cell_type": "markdown",
   "id": "28823de4",
   "metadata": {},
   "source": [
    "With our signed distance function as a Devito `Function`, we construct a BoundaryGeometry object."
   ]
  },
  {
   "cell_type": "code",
   "execution_count": 2,
   "id": "fb219aaf",
   "metadata": {},
   "outputs": [
    {
     "name": "stderr",
     "output_type": "stream",
     "text": [
      "Operator `normals` ran in 0.01 s\n"
     ]
    }
   ],
   "source": [
    "from schism import BoundaryGeometry\n",
    "\n",
    "bg = BoundaryGeometry(sdf)\n",
    "grid = bg.grid  # Gets the grid from the signed distance function"
   ]
  },
  {
   "cell_type": "markdown",
   "id": "d101ae93",
   "metadata": {},
   "source": [
    "This object uses the sdf to calculate boundary locations, normals, and distance to the boundary from each point. It also identifies the interior region and grid points which are boundary-adjacent.\n",
    "\n",
    "Next we need to define a `TimeFunction` for pressure."
   ]
  },
  {
   "cell_type": "code",
   "execution_count": 3,
   "id": "af1d79db",
   "metadata": {},
   "outputs": [],
   "source": [
    "import devito as dv\n",
    "\n",
    "s_o = 4\n",
    "p = dv.TimeFunction(name='p', grid=grid, space_order=s_o, time_order=2)"
   ]
  },
  {
   "cell_type": "markdown",
   "id": "bad17d60",
   "metadata": {},
   "source": [
    "With this we can define boundary conditions to be imposed on the surface. We do this by creating a list of equalities to hold on the surface and passing those to a BoundaryConditions object."
   ]
  },
  {
   "cell_type": "code",
   "execution_count": 4,
   "id": "6ff0ec95",
   "metadata": {},
   "outputs": [],
   "source": [
    "from schism import BoundaryConditions\n",
    "\n",
    "bc_list = [dv.Eq(p, 0),  # Zero pressure on free surface\n",
    "           dv.Eq(p.dx2+p.dy2, 0),  # Zero laplacian\n",
    "           dv.Eq(p.dx4 + 2*p.dx2dy2 + p.dy4, 0)]  # Zero biharmonic\n",
    "\n",
    "bcs = BoundaryConditions(bc_list)"
   ]
  },
  {
   "cell_type": "markdown",
   "id": "1b810c1f",
   "metadata": {},
   "source": [
    "In the case of the acoustic free surface for pressure, pressure is set to zero. By substituting this into the equation, we can obtain higher-order boundary conditions in the form of the laplacian of pressure, the biharmonic, and so forth. Equalities are supplied as simple Devito `Eq`. Under the hood, `BoundaryConditions` parses and sorts the expressions supplied.\n",
    "\n",
    "With this, we can assemble our `Boundary`"
   ]
  },
  {
   "cell_type": "code",
   "execution_count": 5,
   "id": "67251489",
   "metadata": {},
   "outputs": [],
   "source": [
    "from schism import Boundary\n",
    "\n",
    "boundary = Boundary(bcs, bg)"
   ]
  },
  {
   "cell_type": "markdown",
   "id": "513510f7",
   "metadata": {},
   "source": [
    "To get the substitution for a derivative expression, one passes a tuple of derivative objects to get modified stencils for to `Boundary.substitutions()`. In the case of a horizontal boundary with the acoustic free surface, we will need to substitute the `p.dx2` derivative stencil."
   ]
  },
  {
   "cell_type": "code",
   "execution_count": 6,
   "id": "5c5c3c60",
   "metadata": {},
   "outputs": [],
   "source": [
    "deriv = (p.dy2,)\n",
    "subs = boundary.substitutions(deriv)"
   ]
  },
  {
   "cell_type": "markdown",
   "id": "070a89a6",
   "metadata": {},
   "source": [
    "This yields a dictionary containing the modified stencil expressions, keyed with the derivatives that they replace. We can then use this to form the wave equation.\n",
    "\n",
    "Before we do this however, we will set up a sponge layer around the edges of the domain."
   ]
  },
  {
   "cell_type": "code",
   "execution_count": 7,
   "id": "e97de605",
   "metadata": {},
   "outputs": [
    {
     "data": {
      "image/png": "[encoded data removed]",
      "text/plain": [
       "<Figure size 432x288 with 2 Axes>"
      ]
     },
     "metadata": {
      "needs_background": "light"
     },
     "output_type": "display_data"
    }
   ],
   "source": [
    "import numpy as np\n",
    "\n",
    "damp = dv.Function(name='damp', grid=grid)\n",
    "\n",
    "# Number of boundary layers\n",
    "nbl = 10\n",
    "taper = np.linspace(0, 0.3, nbl)\n",
    "\n",
    "# Add the taper to the function's data\n",
    "damp.data[:10] += taper[::-1, np.newaxis]\n",
    "damp.data[-10:] += taper[:, np.newaxis]\n",
    "damp.data[:, :10] += taper[np.newaxis, ::-1]\n",
    "damp.data[:, -10:] += taper[np.newaxis, :]\n",
    "\n",
    "plt.imshow(damp.data.T, origin='lower')\n",
    "plt.title(\"Damping mask\")\n",
    "plt.colorbar()\n",
    "plt.show()"
   ]
  },
  {
   "cell_type": "markdown",
   "id": "f4afaf98",
   "metadata": {},
   "source": [
    "We also need to specify a source term"
   ]
  },
  {
   "cell_type": "code",
   "execution_count": 8,
   "id": "22cb58c5",
   "metadata": {},
   "outputs": [],
   "source": [
    "from examples.seismic import TimeAxis, RickerSource\n",
    "\n",
    "c = 1\n",
    "\n",
    "t0 = 0.  # Simulation starts a t=0\n",
    "tn = 550.  # Simulation last 0.55 seconds (550 ms)\n",
    "dt = 0.5*10/c  # Time step from grid spacing\n",
    "\n",
    "time_range = TimeAxis(start=t0, stop=tn, step=dt)\n",
    "\n",
    "f0 = 0.008  # Source peak frequency is 8Hz (0.008 kHz)\n",
    "src = RickerSource(name='src', grid=grid, f0=f0,\n",
    "                   npoint=1, time_range=time_range)\n",
    "\n",
    "# First, position source centrally in all dimensions\n",
    "src.coordinates.data[0, :] = np.array(grid.extent) * .5\n",
    "src.coordinates.data[0, -1] = 250.  # 250m above bottom"
   ]
  },
  {
   "cell_type": "markdown",
   "id": "1418a18b",
   "metadata": {},
   "source": [
    "Now we can specify our wave equation with damping terms."
   ]
  },
  {
   "cell_type": "code",
   "execution_count": 9,
   "id": "ee065b33",
   "metadata": {},
   "outputs": [],
   "source": [
    "# Check with normal stencils first\n",
    "eq = dv.Eq(p.forward, 2*p-p.backward+dt**2*c**2*(p.dx2+subs[p.dy2])+damp*p.dt)"
   ]
  },
  {
   "cell_type": "markdown",
   "id": "79bb56fe",
   "metadata": {},
   "source": [
    "Then we can create the source injection term."
   ]
  },
  {
   "cell_type": "code",
   "execution_count": 10,
   "id": "1f6cd519",
   "metadata": {},
   "outputs": [],
   "source": [
    "src_term = src.inject(field=p.forward, expr=c*src*dt**2)"
   ]
  },
  {
   "cell_type": "markdown",
   "id": "8cf6bad0",
   "metadata": {},
   "source": [
    "We can now form our operator and run it."
   ]
  },
  {
   "cell_type": "code",
   "execution_count": 11,
   "id": "5c7ed81b",
   "metadata": {},
   "outputs": [
    {
     "name": "stderr",
     "output_type": "stream",
     "text": [
      "Operator `Kernel` ran in 0.01 s\n"
     ]
    },
    {
     "data": {
      "text/plain": [
       "PerformanceSummary([(PerfKey(name='section0', rank=None),\n",
       "                     PerfEntry(time=0.009056000000000007, gflopss=0.0, gpointss=0.0, oi=0.0, ops=0, itershapes=[])),\n",
       "                    (PerfKey(name='section1', rank=None),\n",
       "                     PerfEntry(time=8e-06, gflopss=0.0, gpointss=0.0, oi=0.0, ops=0, itershapes=[]))])"
      ]
     },
     "execution_count": 11,
     "metadata": {},
     "output_type": "execute_result"
    }
   ],
   "source": [
    "from devito import Operator\n",
    "\n",
    "op = Operator([eq] + src_term)\n",
    "op(time=time_range.num-1, dt=dt)"
   ]
  },
  {
   "cell_type": "markdown",
   "id": "cc17ef77",
   "metadata": {},
   "source": [
    "And finally plot the result."
   ]
  },
  {
   "cell_type": "code",
   "execution_count": 12,
   "id": "29b9207c",
   "metadata": {},
   "outputs": [
    {
     "data": {
      "image/png": "[encoded data removed]",
      "text/plain": [
       "<Figure size 576x432 with 2 Axes>"
      ]
     },
     "metadata": {
      "needs_background": "light"
     },
     "output_type": "display_data"
    }
   ],
   "source": [
    "plt.imshow(p.data[1].T, origin='lower')\n",
    "plt.colorbar()\n",
    "plt.show()"
   ]
  },
  {
   "cell_type": "markdown",
   "id": "076225e9",
   "metadata": {},
   "source": [
    "We can see that the reflected geometry here is as expected."
   ]
  }
 ],
 "metadata": {
  "kernelspec": {
   "display_name": "Python 3 (ipykernel)",
   "language": "python",
   "name": "python3"
  },
  "language_info": {
   "codemirror_mode": {
    "name": "ipython",
    "version": 3
   },
   "file_extension": ".py",
   "mimetype": "text/x-python",
   "name": "python",
   "nbconvert_exporter": "python",
   "pygments_lexer": "ipython3",
   "version": "3.8.5"
  }
 },
 "nbformat": 4,
 "nbformat_minor": 5
}
